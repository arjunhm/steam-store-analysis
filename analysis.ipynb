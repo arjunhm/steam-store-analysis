{
 "cells": [
  {
   "cell_type": "code",
   "execution_count": 1,
   "metadata": {},
   "outputs": [],
   "source": [
    "# Handling data\n",
    "import pandas as pd\n",
    "import numpy as np\n",
    "\n",
    "# Visualization\n",
    "import matplotlib.pyplot as plt\n",
    "%matplotlib inline\n",
    "import seaborn as sns\n",
    "\n",
    "# Misc\n",
    "import datetime\n",
    "from ast import literal_eval"
   ]
  },
  {
   "cell_type": "code",
   "execution_count": 2,
   "metadata": {},
   "outputs": [],
   "source": [
    "df = pd.read_csv('data.csv')\n",
    "df = df.drop(df.columns[0], axis=1)"
   ]
  },
  {
   "cell_type": "code",
   "execution_count": 3,
   "metadata": {},
   "outputs": [
    {
     "data": {
      "text/plain": [
       "(3368, 20)"
      ]
     },
     "execution_count": 3,
     "metadata": {},
     "output_type": "execute_result"
    }
   ],
   "source": [
    "df.shape"
   ]
  },
  {
   "cell_type": "code",
   "execution_count": 4,
   "metadata": {},
   "outputs": [],
   "source": [
    "df.tags = df.tags.str.lower()"
   ]
  },
  {
   "cell_type": "code",
   "execution_count": 5,
   "metadata": {},
   "outputs": [
    {
     "data": {
      "text/plain": [
       "Index(['id', 'title', 'genre', 'original_price', 'discounted_price',\n",
       "       'release_date', 'developer', 'publisher', 'overall_rating',\n",
       "       'overall_vote_count', 'recent_rating', 'recent_vote_count',\n",
       "       'metacritic_score', 'tags', 'awards', 'description', 'platforms',\n",
       "       'minimum_requirements', 'recommended_requirements', 'similar_games'],\n",
       "      dtype='object')"
      ]
     },
     "execution_count": 5,
     "metadata": {},
     "output_type": "execute_result"
    }
   ],
   "source": [
    "df.columns"
   ]
  },
  {
   "cell_type": "markdown",
   "metadata": {},
   "source": [
    "# Data Preparation"
   ]
  },
  {
   "cell_type": "markdown",
   "metadata": {},
   "source": [
    "#### Dropping duplicates"
   ]
  },
  {
   "cell_type": "code",
   "execution_count": 6,
   "metadata": {},
   "outputs": [
    {
     "data": {
      "text/plain": [
       "(3368, 20)"
      ]
     },
     "execution_count": 6,
     "metadata": {},
     "output_type": "execute_result"
    }
   ],
   "source": [
    "df = df.drop_duplicates()\n",
    "df.shape"
   ]
  },
  {
   "cell_type": "markdown",
   "metadata": {},
   "source": [
    "#### Dropping games with few reviews"
   ]
  },
  {
   "cell_type": "code",
   "execution_count": 7,
   "metadata": {},
   "outputs": [
    {
     "data": {
      "text/plain": [
       "(3312, 20)"
      ]
     },
     "execution_count": 7,
     "metadata": {},
     "output_type": "execute_result"
    }
   ],
   "source": [
    "df = df[~df.overall_vote_count.str.contains('Need more user reviews')]\n",
    "df = df[~df.overall_rating.str.contains('review')]\n",
    "df.shape"
   ]
  },
  {
   "cell_type": "markdown",
   "metadata": {},
   "source": [
    "#### Dropping demos"
   ]
  },
  {
   "cell_type": "code",
   "execution_count": 8,
   "metadata": {},
   "outputs": [
    {
     "data": {
      "text/plain": [
       "(3252, 20)"
      ]
     },
     "execution_count": 8,
     "metadata": {},
     "output_type": "execute_result"
    }
   ],
   "source": [
    "df = df[(df.original_price.str.contains('₹')) | (df.original_price == 'Free')]\n",
    "df.shape"
   ]
  },
  {
   "cell_type": "markdown",
   "metadata": {},
   "source": [
    "#### Converting prices to float"
   ]
  },
  {
   "cell_type": "code",
   "execution_count": 9,
   "metadata": {},
   "outputs": [],
   "source": [
    "def convert_price(price):\n",
    "    try:\n",
    "        if price == 'Free':\n",
    "            return 0\n",
    "        else:\n",
    "            return float(price.replace(',', '').split()[-1])\n",
    "    except:\n",
    "        return -1"
   ]
  },
  {
   "cell_type": "code",
   "execution_count": 10,
   "metadata": {},
   "outputs": [],
   "source": [
    "df['original_price'] = df['original_price'].apply(convert_price) \n",
    "df['discounted_price'] = df['discounted_price'].apply(convert_price)"
   ]
  },
  {
   "cell_type": "markdown",
   "metadata": {},
   "source": [
    "#### Converting rating text to int"
   ]
  },
  {
   "cell_type": "code",
   "execution_count": 11,
   "metadata": {},
   "outputs": [],
   "source": [
    "rating_encoder = {\n",
    "    'Overwhelmingly Negative': 0,\n",
    "    'Very Negative': 1,\n",
    "    'Mostly Negative': 2,\n",
    "    'Negative': 3,\n",
    "    'Mixed': 4, \n",
    "    'Positive': 5,\n",
    "    'Mostly Positive': 6,\n",
    "    'Very Positive': 7,\n",
    "    'Overwhelmingly Positive': 8\n",
    "}\n",
    "\n",
    "def label_encode_rating(rating):\n",
    "    return rating_encoder[rating]"
   ]
  },
  {
   "cell_type": "code",
   "execution_count": 12,
   "metadata": {},
   "outputs": [],
   "source": [
    "df.overall_rating = df.overall_rating.apply(label_encode_rating)\n",
    "df.recent_rating = df.recent_rating.apply(label_encode_rating)\n",
    "\n",
    "df.overall_vote_count = df.overall_vote_count.apply(int)\n",
    "df.recent_vote_count = df.recent_vote_count.apply(int)"
   ]
  },
  {
   "cell_type": "markdown",
   "metadata": {},
   "source": [
    "#### Collecting unique tags"
   ]
  },
  {
   "cell_type": "code",
   "execution_count": 13,
   "metadata": {},
   "outputs": [
    {
     "data": {
      "text/plain": [
       "402"
      ]
     },
     "execution_count": 13,
     "metadata": {},
     "output_type": "execute_result"
    }
   ],
   "source": [
    "tag_set = set()\n",
    "for tag_list in df.tags.values:\n",
    "    for tag in eval(tag_list):\n",
    "        tag_set.add(tag)\n",
    "        \n",
    "len(list(tag_set))"
   ]
  },
  {
   "cell_type": "markdown",
   "metadata": {},
   "source": [
    "#### Converting release_date to datetime"
   ]
  },
  {
   "cell_type": "code",
   "execution_count": 14,
   "metadata": {},
   "outputs": [],
   "source": [
    "def convert_date(date_str):\n",
    "    try:\n",
    "        return datetime.datetime.strptime(date_str.replace(',', ''), '%d %b %Y').date()\n",
    "    except:\n",
    "        return 0"
   ]
  },
  {
   "cell_type": "code",
   "execution_count": 15,
   "metadata": {},
   "outputs": [],
   "source": [
    "df.release_date = df.release_date.apply(convert_date)\n",
    "df = df[df.release_date != 0]\n",
    "df['release_date'] = pd.to_datetime(df['release_date'], errors='coerce')"
   ]
  },
  {
   "cell_type": "markdown",
   "metadata": {},
   "source": [
    "# Add score based on rating and vote count"
   ]
  },
  {
   "cell_type": "markdown",
   "metadata": {},
   "source": [
    "((v / v + m) * R) + ((m / v + m) * C)"
   ]
  },
  {
   "cell_type": "code",
   "execution_count": 16,
   "metadata": {},
   "outputs": [
    {
     "data": {
      "text/plain": [
       "6.3849953689410315"
      ]
     },
     "execution_count": 16,
     "metadata": {},
     "output_type": "execute_result"
    }
   ],
   "source": [
    "df['overall_rating'].mean()"
   ]
  },
  {
   "cell_type": "code",
   "execution_count": 17,
   "metadata": {},
   "outputs": [],
   "source": [
    "def calculate_score(overall_rating, vote_count, min_votes=1000):\n",
    "    # R -> Average rating of game\n",
    "    # C -> Average rating across the entire dataframe\n",
    "\n",
    "    C = 6\n",
    "    R = overall_rating\n",
    "    \n",
    "    return (vote_count / (vote_count + min_votes)) * R + (min_votes / (vote_count + min_votes)) * C"
   ]
  },
  {
   "cell_type": "code",
   "execution_count": 18,
   "metadata": {},
   "outputs": [],
   "source": [
    "df['overall_score'] = df.apply(lambda x: calculate_score(x['overall_rating'], x['overall_vote_count']), axis=1)"
   ]
  },
  {
   "cell_type": "markdown",
   "metadata": {},
   "source": [
    "## Converting tags from string to list"
   ]
  },
  {
   "cell_type": "code",
   "execution_count": 19,
   "metadata": {},
   "outputs": [],
   "source": [
    "def convert_to_list(x):\n",
    "    arr = []\n",
    "    for i in x[1: -1].split(', '):\n",
    "        arr.append(i[1: -1])\n",
    "    return arr\n"
   ]
  },
  {
   "cell_type": "code",
   "execution_count": 20,
   "metadata": {},
   "outputs": [],
   "source": [
    "def convert_to_list_2(x):\n",
    "    arr = []\n",
    "    for i in x[1: -1].split(', '):\n",
    "        arr.append(int(i))\n",
    "    return arr\n"
   ]
  },
  {
   "cell_type": "code",
   "execution_count": 21,
   "metadata": {},
   "outputs": [],
   "source": [
    "df['tags'] = df.tags.apply(convert_to_list)\n",
    "df['similar_games'] = df.similar_games.apply(convert_to_list_2)"
   ]
  },
  {
   "cell_type": "markdown",
   "metadata": {},
   "source": [
    "# Analysis"
   ]
  },
  {
   "cell_type": "markdown",
   "metadata": {},
   "source": [
    "### Top 25 games of all time"
   ]
  },
  {
   "cell_type": "code",
   "execution_count": 22,
   "metadata": {},
   "outputs": [
    {
     "data": {
      "text/html": [
       "<div>\n",
       "<style scoped>\n",
       "    .dataframe tbody tr th:only-of-type {\n",
       "        vertical-align: middle;\n",
       "    }\n",
       "\n",
       "    .dataframe tbody tr th {\n",
       "        vertical-align: top;\n",
       "    }\n",
       "\n",
       "    .dataframe thead th {\n",
       "        text-align: right;\n",
       "    }\n",
       "</style>\n",
       "<table border=\"1\" class=\"dataframe\">\n",
       "  <thead>\n",
       "    <tr style=\"text-align: right;\">\n",
       "      <th></th>\n",
       "      <th>title</th>\n",
       "      <th>overall_score</th>\n",
       "    </tr>\n",
       "  </thead>\n",
       "  <tbody>\n",
       "    <tr>\n",
       "      <th>153</th>\n",
       "      <td>Terraria</td>\n",
       "      <td>7.939898</td>\n",
       "    </tr>\n",
       "    <tr>\n",
       "      <th>1037</th>\n",
       "      <td>Helltaker</td>\n",
       "      <td>7.939017</td>\n",
       "    </tr>\n",
       "    <tr>\n",
       "      <th>359</th>\n",
       "      <td>The Witcher® 3: Wild Hunt</td>\n",
       "      <td>7.853919</td>\n",
       "    </tr>\n",
       "    <tr>\n",
       "      <th>214</th>\n",
       "      <td>Garry's Mod</td>\n",
       "      <td>7.849703</td>\n",
       "    </tr>\n",
       "    <tr>\n",
       "      <th>724</th>\n",
       "      <td>Persona 4 Golden</td>\n",
       "      <td>7.826975</td>\n",
       "    </tr>\n",
       "    <tr>\n",
       "      <th>350</th>\n",
       "      <td>Euro Truck Simulator 2</td>\n",
       "      <td>7.784831</td>\n",
       "    </tr>\n",
       "    <tr>\n",
       "      <th>572</th>\n",
       "      <td>Monster Train</td>\n",
       "      <td>7.693674</td>\n",
       "    </tr>\n",
       "    <tr>\n",
       "      <th>18</th>\n",
       "      <td>Left 4 Dead 2</td>\n",
       "      <td>7.674585</td>\n",
       "    </tr>\n",
       "    <tr>\n",
       "      <th>880</th>\n",
       "      <td>Stardew Valley</td>\n",
       "      <td>7.669640</td>\n",
       "    </tr>\n",
       "    <tr>\n",
       "      <th>432</th>\n",
       "      <td>Satisfactory</td>\n",
       "      <td>7.652174</td>\n",
       "    </tr>\n",
       "    <tr>\n",
       "      <th>53</th>\n",
       "      <td>Dying Light</td>\n",
       "      <td>7.647266</td>\n",
       "    </tr>\n",
       "    <tr>\n",
       "      <th>156</th>\n",
       "      <td>The Forest</td>\n",
       "      <td>7.583160</td>\n",
       "    </tr>\n",
       "    <tr>\n",
       "      <th>1008</th>\n",
       "      <td>Human: Fall Flat</td>\n",
       "      <td>7.582463</td>\n",
       "    </tr>\n",
       "    <tr>\n",
       "      <th>173</th>\n",
       "      <td>DARK SOULS™ III</td>\n",
       "      <td>7.570631</td>\n",
       "    </tr>\n",
       "    <tr>\n",
       "      <th>41</th>\n",
       "      <td>Deep Rock Galactic</td>\n",
       "      <td>7.565501</td>\n",
       "    </tr>\n",
       "    <tr>\n",
       "      <th>455</th>\n",
       "      <td>Hollow Knight</td>\n",
       "      <td>7.564934</td>\n",
       "    </tr>\n",
       "    <tr>\n",
       "      <th>64</th>\n",
       "      <td>Gunfire Reborn</td>\n",
       "      <td>7.554367</td>\n",
       "    </tr>\n",
       "    <tr>\n",
       "      <th>642</th>\n",
       "      <td>Portal 2</td>\n",
       "      <td>7.545661</td>\n",
       "    </tr>\n",
       "    <tr>\n",
       "      <th>887</th>\n",
       "      <td>Plants vs. Zombies GOTY Edition</td>\n",
       "      <td>7.524715</td>\n",
       "    </tr>\n",
       "    <tr>\n",
       "      <th>736</th>\n",
       "      <td>Divinity: Original Sin 2 - Definitive Edition</td>\n",
       "      <td>7.513973</td>\n",
       "    </tr>\n",
       "    <tr>\n",
       "      <th>2016</th>\n",
       "      <td>Doki Doki Literature Club!</td>\n",
       "      <td>7.500375</td>\n",
       "    </tr>\n",
       "    <tr>\n",
       "      <th>772</th>\n",
       "      <td>Lethal League</td>\n",
       "      <td>7.481597</td>\n",
       "    </tr>\n",
       "    <tr>\n",
       "      <th>425</th>\n",
       "      <td>Subnautica</td>\n",
       "      <td>7.424957</td>\n",
       "    </tr>\n",
       "    <tr>\n",
       "      <th>312</th>\n",
       "      <td>Totally Accurate Battle Simulator</td>\n",
       "      <td>7.412973</td>\n",
       "    </tr>\n",
       "    <tr>\n",
       "      <th>1206</th>\n",
       "      <td>Undertale</td>\n",
       "      <td>7.359590</td>\n",
       "    </tr>\n",
       "  </tbody>\n",
       "</table>\n",
       "</div>"
      ],
      "text/plain": [
       "                                              title  overall_score\n",
       "153                                        Terraria       7.939898\n",
       "1037                                      Helltaker       7.939017\n",
       "359                       The Witcher® 3: Wild Hunt       7.853919\n",
       "214                                     Garry's Mod       7.849703\n",
       "724                                Persona 4 Golden       7.826975\n",
       "350                          Euro Truck Simulator 2       7.784831\n",
       "572                                   Monster Train       7.693674\n",
       "18                                    Left 4 Dead 2       7.674585\n",
       "880                                  Stardew Valley       7.669640\n",
       "432                                    Satisfactory       7.652174\n",
       "53                                      Dying Light       7.647266\n",
       "156                                      The Forest       7.583160\n",
       "1008                               Human: Fall Flat       7.582463\n",
       "173                                 DARK SOULS™ III       7.570631\n",
       "41                               Deep Rock Galactic       7.565501\n",
       "455                                   Hollow Knight       7.564934\n",
       "64                                   Gunfire Reborn       7.554367\n",
       "642                                        Portal 2       7.545661\n",
       "887                 Plants vs. Zombies GOTY Edition       7.524715\n",
       "736   Divinity: Original Sin 2 - Definitive Edition       7.513973\n",
       "2016                     Doki Doki Literature Club!       7.500375\n",
       "772                                   Lethal League       7.481597\n",
       "425                                      Subnautica       7.424957\n",
       "312               Totally Accurate Battle Simulator       7.412973\n",
       "1206                                      Undertale       7.359590"
      ]
     },
     "execution_count": 22,
     "metadata": {},
     "output_type": "execute_result"
    }
   ],
   "source": [
    "df[['title', 'overall_score']].sort_values('overall_score', ascending=False)[: 25]"
   ]
  },
  {
   "cell_type": "markdown",
   "metadata": {},
   "source": [
    "# Similar Games"
   ]
  },
  {
   "cell_type": "code",
   "execution_count": 23,
   "metadata": {},
   "outputs": [],
   "source": [
    "def get_similarity_score(game_id, comparison_id):\n",
    "    \n",
    "    game_1 = df[df.id == game_id]\n",
    "    game_2 = df[df.id == comparison_id]\n",
    "    \n",
    "    length = len(game_1.tags.values[0])\n",
    "    cnt = 0\n",
    "    \n",
    "    for tag in game_1.tags.values[0]:\n",
    "        if tag in game_2.tags.values[0]:\n",
    "            cnt += 1\n",
    "            \n",
    "    score_diff = game_1.overall_score.values - game_2.overall_score.values\n",
    "    \n",
    "    return (cnt / length), score_diff[0]\n"
   ]
  },
  {
   "cell_type": "code",
   "execution_count": 24,
   "metadata": {},
   "outputs": [],
   "source": [
    "def check_threshold(tag_score, score_diff, tag_cutoff=0.7, score_cutoff=1):\n",
    "    if tag_score >= tag_cutoff:\n",
    "        if score_diff <= score_cutoff:\n",
    "            return True"
   ]
  },
  {
   "cell_type": "code",
   "execution_count": 25,
   "metadata": {},
   "outputs": [],
   "source": [
    "def get_game_titles(arr):\n",
    "    for g_id in arr:\n",
    "        print(df[['title', 'id']][df.id == g_id].values)"
   ]
  },
  {
   "cell_type": "code",
   "execution_count": 26,
   "metadata": {},
   "outputs": [
    {
     "data": {
      "text/html": [
       "<div>\n",
       "<style scoped>\n",
       "    .dataframe tbody tr th:only-of-type {\n",
       "        vertical-align: middle;\n",
       "    }\n",
       "\n",
       "    .dataframe tbody tr th {\n",
       "        vertical-align: top;\n",
       "    }\n",
       "\n",
       "    .dataframe thead th {\n",
       "        text-align: right;\n",
       "    }\n",
       "</style>\n",
       "<table border=\"1\" class=\"dataframe\">\n",
       "  <thead>\n",
       "    <tr style=\"text-align: right;\">\n",
       "      <th></th>\n",
       "      <th>id</th>\n",
       "      <th>title</th>\n",
       "      <th>genre</th>\n",
       "      <th>original_price</th>\n",
       "      <th>discounted_price</th>\n",
       "      <th>release_date</th>\n",
       "      <th>developer</th>\n",
       "      <th>publisher</th>\n",
       "      <th>overall_rating</th>\n",
       "      <th>overall_vote_count</th>\n",
       "      <th>...</th>\n",
       "      <th>recent_vote_count</th>\n",
       "      <th>metacritic_score</th>\n",
       "      <th>tags</th>\n",
       "      <th>awards</th>\n",
       "      <th>description</th>\n",
       "      <th>platforms</th>\n",
       "      <th>minimum_requirements</th>\n",
       "      <th>recommended_requirements</th>\n",
       "      <th>similar_games</th>\n",
       "      <th>overall_score</th>\n",
       "    </tr>\n",
       "  </thead>\n",
       "  <tbody>\n",
       "    <tr>\n",
       "      <th>147</th>\n",
       "      <td>939960</td>\n",
       "      <td>Far Cry® New Dawn</td>\n",
       "      <td>Action</td>\n",
       "      <td>2249.0</td>\n",
       "      <td>2249.0</td>\n",
       "      <td>2019-02-15</td>\n",
       "      <td>Ubisoft Montreal, Ubisoft Kiev, Ubisoft Shanghai</td>\n",
       "      <td>Ubisoft</td>\n",
       "      <td>6</td>\n",
       "      <td>332</td>\n",
       "      <td>...</td>\n",
       "      <td>9979</td>\n",
       "      <td>0</td>\n",
       "      <td>[open world, action, fps, post-apocalyptic, ad...</td>\n",
       "      <td>NaN</td>\n",
       "      <td>NaN</td>\n",
       "      <td>['win']</td>\n",
       "      <td>['OS: Windows 7 SP1, Windows 8.1, Windows 10 (...</td>\n",
       "      <td>['OS: Windows 7 SP1, Windows 8.1, Windows 10 (...</td>\n",
       "      <td>[552520, 412020, 377160, 704270, 397540, 59465...</td>\n",
       "      <td>6.0</td>\n",
       "    </tr>\n",
       "  </tbody>\n",
       "</table>\n",
       "<p>1 rows × 21 columns</p>\n",
       "</div>"
      ],
      "text/plain": [
       "         id              title   genre  original_price  discounted_price  \\\n",
       "147  939960  Far Cry® New Dawn  Action          2249.0            2249.0   \n",
       "\n",
       "    release_date                                         developer publisher  \\\n",
       "147   2019-02-15  Ubisoft Montreal, Ubisoft Kiev, Ubisoft Shanghai   Ubisoft   \n",
       "\n",
       "     overall_rating  overall_vote_count  ...  recent_vote_count  \\\n",
       "147               6                 332  ...               9979   \n",
       "\n",
       "     metacritic_score                                               tags  \\\n",
       "147                 0  [open world, action, fps, post-apocalyptic, ad...   \n",
       "\n",
       "    awards description platforms  \\\n",
       "147    NaN         NaN   ['win']   \n",
       "\n",
       "                                  minimum_requirements  \\\n",
       "147  ['OS: Windows 7 SP1, Windows 8.1, Windows 10 (...   \n",
       "\n",
       "                              recommended_requirements  \\\n",
       "147  ['OS: Windows 7 SP1, Windows 8.1, Windows 10 (...   \n",
       "\n",
       "                                         similar_games overall_score  \n",
       "147  [552520, 412020, 377160, 704270, 397540, 59465...           6.0  \n",
       "\n",
       "[1 rows x 21 columns]"
      ]
     },
     "execution_count": 26,
     "metadata": {},
     "output_type": "execute_result"
    }
   ],
   "source": [
    "game_id = 939960\n",
    "game_df = df[df.id == game_id]\n",
    "game_df"
   ]
  },
  {
   "cell_type": "code",
   "execution_count": 27,
   "metadata": {},
   "outputs": [],
   "source": [
    "arr = []\n",
    "\n",
    "for compare_id in df.id:\n",
    "    tag_score, score_diff = get_similarity_score(game_id, compare_id)\n",
    "    if check_threshold(tag_score, score_diff, 0.6, 1.35):\n",
    "        arr.append(compare_id)"
   ]
  },
  {
   "cell_type": "code",
   "execution_count": 28,
   "metadata": {},
   "outputs": [
    {
     "name": "stdout",
     "output_type": "stream",
     "text": [
      "[[\"Tom Clancy's Ghost Recon® Wildlands\" 460930]]\n",
      "[['Rust' 252490]]\n",
      "[['Left 4 Dead' 500]]\n",
      "[['Dying Light' 239140]]\n",
      "[['Arizona Sunshine' 342180]]\n",
      "[['Borderlands 2' 49520]]\n",
      "[['Borderlands: The Pre-Sequel' 261640]]\n",
      "[['theHunter Classic' 253710]]\n",
      "[['Far Cry® 5' 552520]]\n",
      "[['Generation Zero' 704270]]\n",
      "[['Tom Clancy’s The Division™' 365590]]\n",
      "[['Defiance' 224600]]\n",
      "[['Far Cry® 4' 298110]]\n",
      "[['Far Cry® New Dawn' 939960]]\n",
      "[['Dead Island Definitive Edition' 383150]]\n",
      "[['Metro Exodus' 412020]]\n",
      "[['Fallout 4' 377160]]\n",
      "[['Far Cry 3' 220240]]\n",
      "[['Far Cry® Primal' 371660]]\n",
      "[['Digimon Masters Online' 537180]]\n",
      "[['Bulletstorm: Full Clip Edition' 501590]]\n",
      "[[\"Assassin's Creed® Unity\" 289650]]\n",
      "[['Subsistence' 418030]]\n",
      "[['Fallout 4 VR' 611660]]\n",
      "[['S.T.A.L.K.E.R.: Call of Pripyat' 41700]]\n",
      "[['Sanctum 2' 210770]]\n",
      "[['Walking Zombie 2' 965200]]\n",
      "[['E.Y.E: Divine Cybermancy' 91700]]\n",
      "[['Unturned' 304930]]\n",
      "[['Wasteland Survival' 1044200]]\n",
      "[['Tom Clancy’s Splinter Cell Blacklist' 235600]]\n"
     ]
    }
   ],
   "source": [
    "get_game_titles(arr)"
   ]
  },
  {
   "cell_type": "code",
   "execution_count": 29,
   "metadata": {},
   "outputs": [
    {
     "name": "stdout",
     "output_type": "stream",
     "text": [
      "[['Far Cry® 5' 552520]]\n",
      "[['Metro Exodus' 412020]]\n",
      "[['Fallout 4' 377160]]\n",
      "[['Generation Zero' 704270]]\n",
      "[['Borderlands 3' 397540]]\n",
      "[['Hunt: Showdown' 594650]]\n",
      "[]\n",
      "[['Far Cry® 4' 298110]]\n",
      "[]\n",
      "[['Rust' 252490]]\n",
      "[['Borderlands 2' 49520]]\n",
      "[['Left 4 Dead 2' 550]]\n",
      "[['Destiny 2' 1085660]]\n",
      "[['Far Cry 3' 220240]]\n",
      "[['Arma 3' 107410]]\n",
      "[['DayZ' 221100]]\n",
      "[[\"Tom Clancy's Ghost Recon® Wildlands\" 460930]]\n",
      "[['Call of Duty®: Black Ops II' 202970]]\n"
     ]
    }
   ],
   "source": [
    "get_game_titles(game_df.similar_games.values[0])"
   ]
  },
  {
   "cell_type": "code",
   "execution_count": 30,
   "metadata": {},
   "outputs": [
    {
     "data": {
      "text/plain": [
       "(0.7, -0.42726231386025226)"
      ]
     },
     "execution_count": 30,
     "metadata": {},
     "output_type": "execute_result"
    }
   ],
   "source": [
    "get_similarity_score(game_id, 220240)"
   ]
  },
  {
   "cell_type": "markdown",
   "metadata": {},
   "source": [
    "# Most popular games per genre"
   ]
  },
  {
   "cell_type": "code",
   "execution_count": 31,
   "metadata": {},
   "outputs": [
    {
     "name": "stdout",
     "output_type": "stream",
     "text": [
      "-----Action-----\n",
      "               title  original_price  overall_score\n",
      "153         Terraria           369.0       7.939898\n",
      "18     Left 4 Dead 2           349.0       7.674585\n",
      "53       Dying Light          1000.0       7.647266\n",
      "156       The Forest           529.0       7.583160\n",
      "173  DARK SOULS™ III          4299.0       7.570631\n",
      "\n",
      "\n",
      "\n",
      "-----Free to Play-----\n",
      "                            title  original_price  overall_score\n",
      "243  GWENT: The Witcher Card Game             0.0       6.844624\n",
      "309             Crusader Kings II             0.0       6.524489\n",
      "75           Yu-Gi-Oh! Duel Links             0.0       6.480519\n",
      "422               Fallout Shelter             0.0       6.459459\n",
      "114                Fishing Planet             0.0       6.396864\n",
      "\n",
      "\n",
      "\n",
      "-----Simulation-----\n",
      "                    title  original_price  overall_score\n",
      "347  Farming Simulator 19           899.0       7.072356\n",
      "436            Brick Rigs           479.0       6.758535\n",
      "97      Hearts of Iron IV           849.0       6.718943\n",
      "317      Cities: Skylines           729.0       6.700419\n",
      "860             Stellaris           849.0       6.648011\n",
      "\n",
      "\n",
      "\n",
      "-----Strategy-----\n",
      "                                        title  original_price  overall_score\n",
      "572                             Monster Train           569.0       7.693674\n",
      "887           Plants vs. Zombies GOTY Edition           259.0       7.524715\n",
      "266                               Bloons TD 6           349.0       7.176616\n",
      "325                  Age of Empires II (2013)           565.0       7.019608\n",
      "694  Command & Conquer™ Remastered Collection           999.0       6.907459\n",
      "\n",
      "\n",
      "\n",
      "-----Indie-----\n",
      "                                  title  original_price  overall_score\n",
      "214                         Garry's Mod           369.0       7.849703\n",
      "350              Euro Truck Simulator 2           965.0       7.784831\n",
      "880                      Stardew Valley           479.0       7.669640\n",
      "312   Totally Accurate Battle Simulator           459.0       7.412973\n",
      "1206                          Undertale           369.0       7.359590\n",
      "\n",
      "\n",
      "\n",
      "-----Casual-----\n",
      "                           title  original_price  overall_score\n",
      "2016  Doki Doki Literature Club!             0.0       7.500375\n",
      "786       Golf With Your Friends           459.0       6.954019\n",
      "1115           People Playground           349.0       6.938429\n",
      "316           Tabletop Simulator           565.0       6.930481\n",
      "3182          NotTheNameWeWanted           125.0       6.703528\n",
      "\n",
      "\n",
      "\n",
      "-----Adventure-----\n",
      "                                              title  original_price  \\\n",
      "1037                                      Helltaker             0.0   \n",
      "432                                    Satisfactory           749.0   \n",
      "1008                               Human: Fall Flat           479.0   \n",
      "736   Divinity: Original Sin 2 - Definitive Edition           989.0   \n",
      "425                                      Subnautica           569.0   \n",
      "\n",
      "      overall_score  \n",
      "1037       7.939017  \n",
      "432        7.652174  \n",
      "1008       7.582463  \n",
      "736        7.513973  \n",
      "425        7.424957  \n",
      "\n",
      "\n",
      "\n",
      "-----RPG-----\n",
      "                                                 title  original_price  \\\n",
      "359                          The Witcher® 3: Wild Hunt           800.0   \n",
      "724                                   Persona 4 Golden          1039.0   \n",
      "358        The Elder Scrolls V: Skyrim Special Edition          2670.0   \n",
      "360  The Elder Scrolls IV: Oblivion® Game of the Ye...           565.0   \n",
      "216                                          Fallout 4          2000.0   \n",
      "\n",
      "     overall_score  \n",
      "359       7.853919  \n",
      "724       7.826975  \n",
      "358       7.287242  \n",
      "360       6.655010  \n",
      "216       6.650960  \n",
      "\n",
      "\n",
      "\n",
      "-----Massively Multiplayer-----\n",
      "                          title  original_price  overall_score\n",
      "204   The Elder Scrolls® Online          1599.0       6.703176\n",
      "206    FINAL FANTASY XIV Online           719.0       6.465526\n",
      "575    CarX Drift Racing Online           459.0       6.194847\n",
      "1746          Trackmania® Turbo          1999.0       6.010880\n",
      "208                Lords Mobile             0.0       6.000000\n",
      "\n",
      "\n",
      "\n",
      "-----Racing-----\n",
      "                           title  original_price  overall_score\n",
      "348                 BeamNG.drive           625.0       7.285204\n",
      "345  Car Mechanic Simulator 2018           565.0       6.546896\n",
      "640               DiRT Rally 2.0           899.0       6.375390\n",
      "704                     F1® 2019          1299.0       6.322034\n",
      "685  Need For Speed: Hot Pursuit           999.0       6.283154\n",
      "\n",
      "\n",
      "\n",
      "-----Sports-----\n",
      "                                   title  original_price  overall_score\n",
      "902                 NBA 2K Playgrounds 2          2099.0       6.013807\n",
      "790                         Blood Bowl 2           799.0       6.000000\n",
      "2335           Blood Bowl: Chaos Edition           579.0       6.000000\n",
      "2673  Knockout League - Arcade VR Boxing           529.0       6.000000\n",
      "3358             AO International Tennis           569.0       6.000000\n",
      "\n",
      "\n",
      "\n"
     ]
    }
   ],
   "source": [
    "for genre in df.genre.unique():\n",
    "    print(f\"-----{genre}-----\")\n",
    "    g_df = df[['title', 'original_price', 'overall_score']][df.genre == genre].sort_values(by='overall_score', ascending=False)\n",
    "    print(g_df[: 5])\n",
    "    print(\"\\n\\n\")"
   ]
  },
  {
   "cell_type": "code",
   "execution_count": null,
   "metadata": {},
   "outputs": [],
   "source": []
  },
  {
   "cell_type": "code",
   "execution_count": null,
   "metadata": {},
   "outputs": [],
   "source": []
  },
  {
   "cell_type": "code",
   "execution_count": null,
   "metadata": {},
   "outputs": [],
   "source": []
  },
  {
   "cell_type": "code",
   "execution_count": 63,
   "metadata": {},
   "outputs": [],
   "source": [
    "for year in sorted(df.release_date.dt.year.unique()):\n",
    "#     print(f\"-----{year}-----\")\n",
    "    d = df[['title', 'overall_score']][df.release_date.dt.year == year].sort_values('overall_score', ascending=False)\n",
    "#     print(d[: 5].values)\n",
    "#     print(\"\\n\\n\")"
   ]
  },
  {
   "cell_type": "code",
   "execution_count": 73,
   "metadata": {},
   "outputs": [],
   "source": []
  },
  {
   "cell_type": "markdown",
   "metadata": {},
   "source": [
    "# Popularity of genres over the years"
   ]
  },
  {
   "cell_type": "code",
   "execution_count": 76,
   "metadata": {},
   "outputs": [],
   "source": [
    "genre_counter = {}\n",
    "\n",
    "for genre in df.genre.unique():\n",
    "    genre_counter[genre] = []\n",
    "    temp_df = df[df.genre == genre]\n",
    "    \n",
    "    for year in sorted(df.release_date.dt.year.unique()):\n",
    "        c = temp_df['genre'][temp_df.release_date.dt.year == year].count()\n",
    "        genre_counter[genre].append(c)"
   ]
  },
  {
   "cell_type": "code",
   "execution_count": 96,
   "metadata": {},
   "outputs": [
    {
     "data": {
      "image/png": "[encoded data removed]",
      "text/plain": [
       "<Figure size 432x288 with 1 Axes>"
      ]
     },
     "metadata": {
      "needs_background": "light"
     },
     "output_type": "display_data"
    }
   ],
   "source": [
    "dates = sorted(df.release_date.dt.year.unique())\n",
    "g_keys = list(genre_counter.keys())\n",
    "for genre in g_keys:\n",
    "    y_axis = genre_counter[genre]\n",
    "    plt.plot(dates, y_axis)\n",
    "    plt.scatter(dates, y_axis)\n",
    "    plt.legend(g_keys)"
   ]
  },
  {
   "cell_type": "code",
   "execution_count": null,
   "metadata": {},
   "outputs": [],
   "source": []
  }
 ],
 "metadata": {
  "kernelspec": {
   "display_name": "Python 3",
   "language": "python",
   "name": "python3"
  },
  "language_info": {
   "codemirror_mode": {
    "name": "ipython",
    "version": 3
   },
   "file_extension": ".py",
   "mimetype": "text/x-python",
   "name": "python",
   "nbconvert_exporter": "python",
   "pygments_lexer": "ipython3",
   "version": "3.8.1"
  }
 },
 "nbformat": 4,
 "nbformat_minor": 4
}
