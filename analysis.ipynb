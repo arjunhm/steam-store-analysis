{
 "cells": [
  {
   "cell_type": "code",
   "execution_count": 14,
   "metadata": {},
   "outputs": [],
   "source": [
    "# Handling data\n",
    "import pandas as pd\n",
    "import numpy as np\n",
    "\n",
    "# Visualization\n",
    "import matplotlib.pyplot as plt\n",
    "%matplotlib inline\n",
    "import seaborn as sns\n",
    "\n",
    "# Misc\n",
    "import datetime\n",
    "from ast import literal_eval"
   ]
  },
  {
   "cell_type": "code",
   "execution_count": 15,
   "metadata": {},
   "outputs": [],
   "source": [
    "df = pd.read_csv('data.csv')\n",
    "df = df.drop(df.columns[0], axis=1)"
   ]
  },
  {
   "cell_type": "code",
   "execution_count": 16,
   "metadata": {},
   "outputs": [
    {
     "data": {
      "text/plain": [
       "(3368, 20)"
      ]
     },
     "execution_count": 16,
     "metadata": {},
     "output_type": "execute_result"
    }
   ],
   "source": [
    "df.shape"
   ]
  },
  {
   "cell_type": "code",
   "execution_count": 17,
   "metadata": {},
   "outputs": [],
   "source": [
    "df.tags = df.tags.str.lower()"
   ]
  },
  {
   "cell_type": "code",
   "execution_count": 18,
   "metadata": {},
   "outputs": [
    {
     "data": {
      "text/plain": [
       "Index(['id', 'title', 'genre', 'original_price', 'discounted_price',\n",
       "       'release_date', 'developer', 'publisher', 'overall_rating',\n",
       "       'overall_vote_count', 'recent_rating', 'recent_vote_count',\n",
       "       'metacritic_score', 'tags', 'awards', 'description', 'platforms',\n",
       "       'minimum_requirements', 'recommended_requirements', 'similar_games'],\n",
       "      dtype='object')"
      ]
     },
     "execution_count": 18,
     "metadata": {},
     "output_type": "execute_result"
    }
   ],
   "source": [
    "df.columns"
   ]
  },
  {
   "cell_type": "markdown",
   "metadata": {},
   "source": [
    "# Data Preparation"
   ]
  },
  {
   "cell_type": "markdown",
   "metadata": {},
   "source": [
    "#### Dropping duplicates"
   ]
  },
  {
   "cell_type": "code",
   "execution_count": 19,
   "metadata": {},
   "outputs": [
    {
     "data": {
      "text/plain": [
       "(3368, 20)"
      ]
     },
     "execution_count": 19,
     "metadata": {},
     "output_type": "execute_result"
    }
   ],
   "source": [
    "df = df.drop_duplicates()\n",
    "df.shape"
   ]
  },
  {
   "cell_type": "markdown",
   "metadata": {},
   "source": [
    "#### Dropping games with few reviews"
   ]
  },
  {
   "cell_type": "code",
   "execution_count": 20,
   "metadata": {},
   "outputs": [
    {
     "data": {
      "text/plain": [
       "(3312, 20)"
      ]
     },
     "execution_count": 20,
     "metadata": {},
     "output_type": "execute_result"
    }
   ],
   "source": [
    "df = df[~df.overall_vote_count.str.contains('Need more user reviews')]\n",
    "df = df[~df.overall_rating.str.contains('review')]\n",
    "df.shape"
   ]
  },
  {
   "cell_type": "markdown",
   "metadata": {},
   "source": [
    "#### Dropping demos"
   ]
  },
  {
   "cell_type": "code",
   "execution_count": 21,
   "metadata": {},
   "outputs": [
    {
     "data": {
      "text/plain": [
       "(3252, 20)"
      ]
     },
     "execution_count": 21,
     "metadata": {},
     "output_type": "execute_result"
    }
   ],
   "source": [
    "df = df[(df.original_price.str.contains('₹')) | (df.original_price == 'Free')]\n",
    "df.shape"
   ]
  },
  {
   "cell_type": "markdown",
   "metadata": {},
   "source": [
    "#### Converting prices to float"
   ]
  },
  {
   "cell_type": "code",
   "execution_count": 22,
   "metadata": {},
   "outputs": [],
   "source": [
    "def convert_price(price):\n",
    "    try:\n",
    "        if price == 'Free':\n",
    "            return 0\n",
    "        else:\n",
    "            return float(price.replace(',', '').split()[-1])\n",
    "    except:\n",
    "        return -1"
   ]
  },
  {
   "cell_type": "code",
   "execution_count": 23,
   "metadata": {},
   "outputs": [],
   "source": [
    "df['original_price'] = df['original_price'].apply(convert_price) \n",
    "df['discounted_price'] = df['discounted_price'].apply(convert_price)"
   ]
  },
  {
   "cell_type": "markdown",
   "metadata": {},
   "source": [
    "#### Converting rating text to int"
   ]
  },
  {
   "cell_type": "code",
   "execution_count": 24,
   "metadata": {},
   "outputs": [],
   "source": [
    "rating_encoder = {\n",
    "    'Overwhelmingly Negative': 0,\n",
    "    'Very Negative': 1,\n",
    "    'Mostly Negative': 2,\n",
    "    'Negative': 3,\n",
    "    'Mixed': 4, \n",
    "    'Positive': 5,\n",
    "    'Mostly Positive': 6,\n",
    "    'Very Positive': 7,\n",
    "    'Overwhelmingly Positive': 8\n",
    "}\n",
    "\n",
    "def label_encode_rating(rating):\n",
    "    return rating_encoder[rating]"
   ]
  },
  {
   "cell_type": "code",
   "execution_count": 25,
   "metadata": {},
   "outputs": [],
   "source": [
    "df.overall_rating = df.overall_rating.apply(label_encode_rating)\n",
    "df.recent_rating = df.recent_rating.apply(label_encode_rating)\n",
    "\n",
    "df.overall_vote_count = df.overall_vote_count.apply(int)\n",
    "df.recent_vote_count = df.recent_vote_count.apply(int)"
   ]
  },
  {
   "cell_type": "markdown",
   "metadata": {},
   "source": [
    "#### Collecting unique tags"
   ]
  },
  {
   "cell_type": "code",
   "execution_count": 26,
   "metadata": {},
   "outputs": [
    {
     "data": {
      "text/plain": [
       "402"
      ]
     },
     "execution_count": 26,
     "metadata": {},
     "output_type": "execute_result"
    }
   ],
   "source": [
    "tag_set = set()\n",
    "for tag_list in df.tags.values:\n",
    "    for tag in eval(tag_list):\n",
    "        tag_set.add(tag)\n",
    "        \n",
    "len(list(tag_set))"
   ]
  },
  {
   "cell_type": "markdown",
   "metadata": {},
   "source": [
    "#### Converting release_date to datetime"
   ]
  },
  {
   "cell_type": "code",
   "execution_count": 27,
   "metadata": {},
   "outputs": [],
   "source": [
    "def convert_date(date_str):\n",
    "    try:\n",
    "        return datetime.datetime.strptime(date_str.replace(',', ''), '%d %b %Y').date()\n",
    "    except ValueError:\n",
    "        return datetime.datetime.strptime(date_str.replace(',', ''), '%b %Y').date()\n",
    "    except AttributeError:\n",
    "        return 0"
   ]
  },
  {
   "cell_type": "code",
   "execution_count": 28,
   "metadata": {},
   "outputs": [],
   "source": [
    "df.release_date = df.release_date.apply(convert_date)"
   ]
  },
  {
   "cell_type": "markdown",
   "metadata": {},
   "source": [
    "# Add score based on rating and vote count"
   ]
  },
  {
   "cell_type": "markdown",
   "metadata": {},
   "source": [
    "((v / v + m) * R) + ((m / v + m) * C)"
   ]
  },
  {
   "cell_type": "code",
   "execution_count": 29,
   "metadata": {},
   "outputs": [
    {
     "data": {
      "text/plain": [
       "6.384686346863469"
      ]
     },
     "execution_count": 29,
     "metadata": {},
     "output_type": "execute_result"
    }
   ],
   "source": [
    "df['overall_rating'].mean()"
   ]
  },
  {
   "cell_type": "code",
   "execution_count": 30,
   "metadata": {},
   "outputs": [],
   "source": [
    "def calculate_score(overall_rating, vote_count, min_votes=1000):\n",
    "    # R -> Average rating of game\n",
    "    # C -> Average rating across the entire dataframe\n",
    "\n",
    "    C = 6\n",
    "    R = overall_rating\n",
    "    \n",
    "    return (vote_count / (vote_count + min_votes)) * R + (min_votes / (vote_count + min_votes)) * C"
   ]
  },
  {
   "cell_type": "code",
   "execution_count": 31,
   "metadata": {},
   "outputs": [],
   "source": [
    "df['overall_score'] = df.apply(lambda x: calculate_score(x['overall_rating'], x['overall_vote_count']), axis=1)"
   ]
  },
  {
   "cell_type": "markdown",
   "metadata": {},
   "source": [
    "## Converting tags from string to list"
   ]
  },
  {
   "cell_type": "code",
   "execution_count": 32,
   "metadata": {},
   "outputs": [],
   "source": [
    "def convert_to_list(x):\n",
    "    arr = []\n",
    "    for i in x[1: -1].split(', '):\n",
    "        arr.append(i[1: -1])\n",
    "    return arr\n"
   ]
  },
  {
   "cell_type": "code",
   "execution_count": 33,
   "metadata": {},
   "outputs": [],
   "source": [
    "def convert_to_list_2(x):\n",
    "    arr = []\n",
    "    for i in x[1: -1].split(', '):\n",
    "        arr.append(int(i))\n",
    "    return arr\n"
   ]
  },
  {
   "cell_type": "code",
   "execution_count": 34,
   "metadata": {},
   "outputs": [],
   "source": [
    "df['tags'] = df.tags.apply(convert_to_list)\n",
    "df['similar_games'] = df.similar_games.apply(convert_to_list_2)"
   ]
  },
  {
   "cell_type": "markdown",
   "metadata": {},
   "source": [
    "# Analysis"
   ]
  },
  {
   "cell_type": "markdown",
   "metadata": {},
   "source": [
    "### Top 25 games of all time"
   ]
  },
  {
   "cell_type": "code",
   "execution_count": 35,
   "metadata": {},
   "outputs": [
    {
     "data": {
      "text/html": [
       "<div>\n",
       "<style scoped>\n",
       "    .dataframe tbody tr th:only-of-type {\n",
       "        vertical-align: middle;\n",
       "    }\n",
       "\n",
       "    .dataframe tbody tr th {\n",
       "        vertical-align: top;\n",
       "    }\n",
       "\n",
       "    .dataframe thead th {\n",
       "        text-align: right;\n",
       "    }\n",
       "</style>\n",
       "<table border=\"1\" class=\"dataframe\">\n",
       "  <thead>\n",
       "    <tr style=\"text-align: right;\">\n",
       "      <th></th>\n",
       "      <th>title</th>\n",
       "      <th>overall_score</th>\n",
       "    </tr>\n",
       "  </thead>\n",
       "  <tbody>\n",
       "    <tr>\n",
       "      <th>153</th>\n",
       "      <td>Terraria</td>\n",
       "      <td>7.939898</td>\n",
       "    </tr>\n",
       "    <tr>\n",
       "      <th>1037</th>\n",
       "      <td>Helltaker</td>\n",
       "      <td>7.939017</td>\n",
       "    </tr>\n",
       "    <tr>\n",
       "      <th>359</th>\n",
       "      <td>The Witcher® 3: Wild Hunt</td>\n",
       "      <td>7.853919</td>\n",
       "    </tr>\n",
       "    <tr>\n",
       "      <th>214</th>\n",
       "      <td>Garry's Mod</td>\n",
       "      <td>7.849703</td>\n",
       "    </tr>\n",
       "    <tr>\n",
       "      <th>724</th>\n",
       "      <td>Persona 4 Golden</td>\n",
       "      <td>7.826975</td>\n",
       "    </tr>\n",
       "    <tr>\n",
       "      <th>350</th>\n",
       "      <td>Euro Truck Simulator 2</td>\n",
       "      <td>7.784831</td>\n",
       "    </tr>\n",
       "    <tr>\n",
       "      <th>572</th>\n",
       "      <td>Monster Train</td>\n",
       "      <td>7.693674</td>\n",
       "    </tr>\n",
       "    <tr>\n",
       "      <th>18</th>\n",
       "      <td>Left 4 Dead 2</td>\n",
       "      <td>7.674585</td>\n",
       "    </tr>\n",
       "    <tr>\n",
       "      <th>880</th>\n",
       "      <td>Stardew Valley</td>\n",
       "      <td>7.669640</td>\n",
       "    </tr>\n",
       "    <tr>\n",
       "      <th>432</th>\n",
       "      <td>Satisfactory</td>\n",
       "      <td>7.652174</td>\n",
       "    </tr>\n",
       "    <tr>\n",
       "      <th>53</th>\n",
       "      <td>Dying Light</td>\n",
       "      <td>7.647266</td>\n",
       "    </tr>\n",
       "    <tr>\n",
       "      <th>156</th>\n",
       "      <td>The Forest</td>\n",
       "      <td>7.583160</td>\n",
       "    </tr>\n",
       "    <tr>\n",
       "      <th>1008</th>\n",
       "      <td>Human: Fall Flat</td>\n",
       "      <td>7.582463</td>\n",
       "    </tr>\n",
       "    <tr>\n",
       "      <th>173</th>\n",
       "      <td>DARK SOULS™ III</td>\n",
       "      <td>7.570631</td>\n",
       "    </tr>\n",
       "    <tr>\n",
       "      <th>41</th>\n",
       "      <td>Deep Rock Galactic</td>\n",
       "      <td>7.565501</td>\n",
       "    </tr>\n",
       "    <tr>\n",
       "      <th>455</th>\n",
       "      <td>Hollow Knight</td>\n",
       "      <td>7.564934</td>\n",
       "    </tr>\n",
       "    <tr>\n",
       "      <th>64</th>\n",
       "      <td>Gunfire Reborn</td>\n",
       "      <td>7.554367</td>\n",
       "    </tr>\n",
       "    <tr>\n",
       "      <th>642</th>\n",
       "      <td>Portal 2</td>\n",
       "      <td>7.545661</td>\n",
       "    </tr>\n",
       "    <tr>\n",
       "      <th>887</th>\n",
       "      <td>Plants vs. Zombies GOTY Edition</td>\n",
       "      <td>7.524715</td>\n",
       "    </tr>\n",
       "    <tr>\n",
       "      <th>736</th>\n",
       "      <td>Divinity: Original Sin 2 - Definitive Edition</td>\n",
       "      <td>7.513973</td>\n",
       "    </tr>\n",
       "    <tr>\n",
       "      <th>2016</th>\n",
       "      <td>Doki Doki Literature Club!</td>\n",
       "      <td>7.500375</td>\n",
       "    </tr>\n",
       "    <tr>\n",
       "      <th>772</th>\n",
       "      <td>Lethal League</td>\n",
       "      <td>7.481597</td>\n",
       "    </tr>\n",
       "    <tr>\n",
       "      <th>425</th>\n",
       "      <td>Subnautica</td>\n",
       "      <td>7.424957</td>\n",
       "    </tr>\n",
       "    <tr>\n",
       "      <th>312</th>\n",
       "      <td>Totally Accurate Battle Simulator</td>\n",
       "      <td>7.412973</td>\n",
       "    </tr>\n",
       "    <tr>\n",
       "      <th>1206</th>\n",
       "      <td>Undertale</td>\n",
       "      <td>7.359590</td>\n",
       "    </tr>\n",
       "  </tbody>\n",
       "</table>\n",
       "</div>"
      ],
      "text/plain": [
       "                                              title  overall_score\n",
       "153                                        Terraria       7.939898\n",
       "1037                                      Helltaker       7.939017\n",
       "359                       The Witcher® 3: Wild Hunt       7.853919\n",
       "214                                     Garry's Mod       7.849703\n",
       "724                                Persona 4 Golden       7.826975\n",
       "350                          Euro Truck Simulator 2       7.784831\n",
       "572                                   Monster Train       7.693674\n",
       "18                                    Left 4 Dead 2       7.674585\n",
       "880                                  Stardew Valley       7.669640\n",
       "432                                    Satisfactory       7.652174\n",
       "53                                      Dying Light       7.647266\n",
       "156                                      The Forest       7.583160\n",
       "1008                               Human: Fall Flat       7.582463\n",
       "173                                 DARK SOULS™ III       7.570631\n",
       "41                               Deep Rock Galactic       7.565501\n",
       "455                                   Hollow Knight       7.564934\n",
       "64                                   Gunfire Reborn       7.554367\n",
       "642                                        Portal 2       7.545661\n",
       "887                 Plants vs. Zombies GOTY Edition       7.524715\n",
       "736   Divinity: Original Sin 2 - Definitive Edition       7.513973\n",
       "2016                     Doki Doki Literature Club!       7.500375\n",
       "772                                   Lethal League       7.481597\n",
       "425                                      Subnautica       7.424957\n",
       "312               Totally Accurate Battle Simulator       7.412973\n",
       "1206                                      Undertale       7.359590"
      ]
     },
     "execution_count": 35,
     "metadata": {},
     "output_type": "execute_result"
    }
   ],
   "source": [
    "df[['title', 'overall_score']].sort_values('overall_score', ascending=False)[: 25]"
   ]
  },
  {
   "cell_type": "markdown",
   "metadata": {},
   "source": [
    "# Similar Games"
   ]
  },
  {
   "cell_type": "code",
   "execution_count": 36,
   "metadata": {},
   "outputs": [],
   "source": [
    "def get_similarity_score(game_id, comparison_id):\n",
    "    \n",
    "    game_1 = df[df.id == game_id]\n",
    "    game_2 = df[df.id == comparison_id]\n",
    "    \n",
    "    length = len(game_1.tags.values[0])\n",
    "    cnt = 0\n",
    "    \n",
    "    for tag in game_1.tags.values[0]:\n",
    "        if tag in game_2.tags.values[0]:\n",
    "            cnt += 1\n",
    "            \n",
    "    score_diff = game_1.overall_score.values - game_2.overall_score.values\n",
    "    \n",
    "    return (cnt / length), score_diff[0]\n"
   ]
  },
  {
   "cell_type": "code",
   "execution_count": 37,
   "metadata": {},
   "outputs": [],
   "source": [
    "def check_threshold(tag_score, score_diff, tag_cutoff=0.7, score_cutoff=1):\n",
    "    if tag_score >= tag_cutoff:\n",
    "        if score_diff <= score_cutoff:\n",
    "            return True"
   ]
  },
  {
   "cell_type": "code",
   "execution_count": 38,
   "metadata": {},
   "outputs": [],
   "source": [
    "def get_game_titles(arr):\n",
    "    for g_id in arr:\n",
    "        print(df[['title', 'id']][df.id == g_id].values)"
   ]
  },
  {
   "cell_type": "code",
   "execution_count": 52,
   "metadata": {},
   "outputs": [
    {
     "data": {
      "text/html": [
       "<div>\n",
       "<style scoped>\n",
       "    .dataframe tbody tr th:only-of-type {\n",
       "        vertical-align: middle;\n",
       "    }\n",
       "\n",
       "    .dataframe tbody tr th {\n",
       "        vertical-align: top;\n",
       "    }\n",
       "\n",
       "    .dataframe thead th {\n",
       "        text-align: right;\n",
       "    }\n",
       "</style>\n",
       "<table border=\"1\" class=\"dataframe\">\n",
       "  <thead>\n",
       "    <tr style=\"text-align: right;\">\n",
       "      <th></th>\n",
       "      <th>id</th>\n",
       "      <th>title</th>\n",
       "      <th>genre</th>\n",
       "      <th>original_price</th>\n",
       "      <th>discounted_price</th>\n",
       "      <th>release_date</th>\n",
       "      <th>developer</th>\n",
       "      <th>publisher</th>\n",
       "      <th>overall_rating</th>\n",
       "      <th>overall_vote_count</th>\n",
       "      <th>...</th>\n",
       "      <th>recent_vote_count</th>\n",
       "      <th>metacritic_score</th>\n",
       "      <th>tags</th>\n",
       "      <th>awards</th>\n",
       "      <th>description</th>\n",
       "      <th>platforms</th>\n",
       "      <th>minimum_requirements</th>\n",
       "      <th>recommended_requirements</th>\n",
       "      <th>similar_games</th>\n",
       "      <th>overall_score</th>\n",
       "    </tr>\n",
       "  </thead>\n",
       "  <tbody>\n",
       "    <tr>\n",
       "      <th>147</th>\n",
       "      <td>939960</td>\n",
       "      <td>Far Cry® New Dawn</td>\n",
       "      <td>Action</td>\n",
       "      <td>2249.0</td>\n",
       "      <td>2249.0</td>\n",
       "      <td>2019-02-15</td>\n",
       "      <td>Ubisoft Montreal, Ubisoft Kiev, Ubisoft Shanghai</td>\n",
       "      <td>Ubisoft</td>\n",
       "      <td>6</td>\n",
       "      <td>332</td>\n",
       "      <td>...</td>\n",
       "      <td>9979</td>\n",
       "      <td>0</td>\n",
       "      <td>[open world, action, fps, post-apocalyptic, ad...</td>\n",
       "      <td>NaN</td>\n",
       "      <td>NaN</td>\n",
       "      <td>['win']</td>\n",
       "      <td>['OS: Windows 7 SP1, Windows 8.1, Windows 10 (...</td>\n",
       "      <td>['OS: Windows 7 SP1, Windows 8.1, Windows 10 (...</td>\n",
       "      <td>[552520, 412020, 377160, 704270, 397540, 59465...</td>\n",
       "      <td>6.0</td>\n",
       "    </tr>\n",
       "  </tbody>\n",
       "</table>\n",
       "<p>1 rows × 21 columns</p>\n",
       "</div>"
      ],
      "text/plain": [
       "         id              title   genre  original_price  discounted_price  \\\n",
       "147  939960  Far Cry® New Dawn  Action          2249.0            2249.0   \n",
       "\n",
       "    release_date                                         developer publisher  \\\n",
       "147   2019-02-15  Ubisoft Montreal, Ubisoft Kiev, Ubisoft Shanghai   Ubisoft   \n",
       "\n",
       "     overall_rating  overall_vote_count  ...  recent_vote_count  \\\n",
       "147               6                 332  ...               9979   \n",
       "\n",
       "     metacritic_score                                               tags  \\\n",
       "147                 0  [open world, action, fps, post-apocalyptic, ad...   \n",
       "\n",
       "    awards description platforms  \\\n",
       "147    NaN         NaN   ['win']   \n",
       "\n",
       "                                  minimum_requirements  \\\n",
       "147  ['OS: Windows 7 SP1, Windows 8.1, Windows 10 (...   \n",
       "\n",
       "                              recommended_requirements  \\\n",
       "147  ['OS: Windows 7 SP1, Windows 8.1, Windows 10 (...   \n",
       "\n",
       "                                         similar_games overall_score  \n",
       "147  [552520, 412020, 377160, 704270, 397540, 59465...           6.0  \n",
       "\n",
       "[1 rows x 21 columns]"
      ]
     },
     "execution_count": 52,
     "metadata": {},
     "output_type": "execute_result"
    }
   ],
   "source": [
    "game_id = 939960\n",
    "game_df = df[df.id == game_id]\n",
    "game_df"
   ]
  },
  {
   "cell_type": "code",
   "execution_count": 53,
   "metadata": {},
   "outputs": [],
   "source": [
    "arr = []\n",
    "\n",
    "for compare_id in df.id:\n",
    "    tag_score, score_diff = get_similarity_score(game_id, compare_id)\n",
    "    if check_threshold(tag_score, score_diff, 0.6, 1.35):\n",
    "        arr.append(compare_id)"
   ]
  },
  {
   "cell_type": "code",
   "execution_count": 54,
   "metadata": {},
   "outputs": [
    {
     "name": "stdout",
     "output_type": "stream",
     "text": [
      "[[\"Tom Clancy's Ghost Recon® Wildlands\" 460930]]\n",
      "[['Rust' 252490]]\n",
      "[['Left 4 Dead' 500]]\n",
      "[['Dying Light' 239140]]\n",
      "[['Arizona Sunshine' 342180]]\n",
      "[['Borderlands 2' 49520]]\n",
      "[['Borderlands Game of the Year' 8980]]\n",
      "[['Borderlands: The Pre-Sequel' 261640]]\n",
      "[['theHunter Classic' 253710]]\n",
      "[['Far Cry® 5' 552520]]\n",
      "[['Generation Zero' 704270]]\n",
      "[['Tom Clancy’s The Division™' 365590]]\n",
      "[['Defiance' 224600]]\n",
      "[['Far Cry® 4' 298110]]\n",
      "[['Far Cry® New Dawn' 939960]]\n",
      "[['Dead Island Definitive Edition' 383150]]\n",
      "[['Metro Exodus' 412020]]\n",
      "[['Fallout 4' 377160]]\n",
      "[['Far Cry 3' 220240]]\n",
      "[['Far Cry® Primal' 371660]]\n",
      "[['Digimon Masters Online' 537180]]\n",
      "[['Bulletstorm: Full Clip Edition' 501590]]\n",
      "[[\"Assassin's Creed® Unity\" 289650]]\n",
      "[['Subsistence' 418030]]\n",
      "[['Fallout 4 VR' 611660]]\n",
      "[['S.T.A.L.K.E.R.: Call of Pripyat' 41700]]\n",
      "[['Sanctum 2' 210770]]\n",
      "[['Walking Zombie 2' 965200]]\n",
      "[['E.Y.E: Divine Cybermancy' 91700]]\n",
      "[['Unturned' 304930]]\n",
      "[['Wasteland Survival' 1044200]]\n",
      "[['Tom Clancy’s Splinter Cell Blacklist' 235600]]\n"
     ]
    }
   ],
   "source": [
    "get_game_titles(arr)"
   ]
  },
  {
   "cell_type": "code",
   "execution_count": 55,
   "metadata": {},
   "outputs": [
    {
     "name": "stdout",
     "output_type": "stream",
     "text": [
      "[['Far Cry® 5' 552520]]\n",
      "[['Metro Exodus' 412020]]\n",
      "[['Fallout 4' 377160]]\n",
      "[['Generation Zero' 704270]]\n",
      "[['Borderlands 3' 397540]]\n",
      "[['Hunt: Showdown' 594650]]\n",
      "[]\n",
      "[['Far Cry® 4' 298110]]\n",
      "[['Borderlands Game of the Year' 8980]]\n",
      "[['Rust' 252490]]\n",
      "[['Borderlands 2' 49520]]\n",
      "[['Left 4 Dead 2' 550]]\n",
      "[['Destiny 2' 1085660]]\n",
      "[['Far Cry 3' 220240]]\n",
      "[['Arma 3' 107410]]\n",
      "[['DayZ' 221100]]\n",
      "[[\"Tom Clancy's Ghost Recon® Wildlands\" 460930]]\n",
      "[['Call of Duty®: Black Ops II' 202970]]\n"
     ]
    }
   ],
   "source": [
    "get_game_titles(game_df.similar_games.values[0])"
   ]
  },
  {
   "cell_type": "code",
   "execution_count": 43,
   "metadata": {},
   "outputs": [
    {
     "data": {
      "text/plain": [
       "(0.6, -0.024633878973752132)"
      ]
     },
     "execution_count": 43,
     "metadata": {},
     "output_type": "execute_result"
    }
   ],
   "source": [
    "get_similarity_score(game_id, 220240)"
   ]
  },
  {
   "cell_type": "code",
   "execution_count": null,
   "metadata": {},
   "outputs": [],
   "source": []
  },
  {
   "cell_type": "code",
   "execution_count": null,
   "metadata": {},
   "outputs": [],
   "source": []
  },
  {
   "cell_type": "code",
   "execution_count": null,
   "metadata": {},
   "outputs": [],
   "source": []
  },
  {
   "cell_type": "code",
   "execution_count": null,
   "metadata": {},
   "outputs": [],
   "source": []
  },
  {
   "cell_type": "code",
   "execution_count": null,
   "metadata": {},
   "outputs": [],
   "source": []
  },
  {
   "cell_type": "code",
   "execution_count": 92,
   "metadata": {},
   "outputs": [
    {
     "data": {
      "text/html": [
       "<div>\n",
       "<style scoped>\n",
       "    .dataframe tbody tr th:only-of-type {\n",
       "        vertical-align: middle;\n",
       "    }\n",
       "\n",
       "    .dataframe tbody tr th {\n",
       "        vertical-align: top;\n",
       "    }\n",
       "\n",
       "    .dataframe thead th {\n",
       "        text-align: right;\n",
       "    }\n",
       "</style>\n",
       "<table border=\"1\" class=\"dataframe\">\n",
       "  <thead>\n",
       "    <tr style=\"text-align: right;\">\n",
       "      <th></th>\n",
       "      <th>id</th>\n",
       "      <th>title</th>\n",
       "      <th>genre</th>\n",
       "      <th>original_price</th>\n",
       "      <th>discounted_price</th>\n",
       "      <th>release_date</th>\n",
       "      <th>developer</th>\n",
       "      <th>publisher</th>\n",
       "      <th>overall_rating</th>\n",
       "      <th>overall_vote_count</th>\n",
       "      <th>...</th>\n",
       "      <th>recent_vote_count</th>\n",
       "      <th>metacritic_score</th>\n",
       "      <th>tags</th>\n",
       "      <th>awards</th>\n",
       "      <th>description</th>\n",
       "      <th>platforms</th>\n",
       "      <th>minimum_requirements</th>\n",
       "      <th>recommended_requirements</th>\n",
       "      <th>similar_games</th>\n",
       "      <th>overall_score</th>\n",
       "    </tr>\n",
       "  </thead>\n",
       "  <tbody>\n",
       "    <tr>\n",
       "      <th>0</th>\n",
       "      <td>730</td>\n",
       "      <td>Counter-Strike: Global Offensive</td>\n",
       "      <td>Action</td>\n",
       "      <td>0.0</td>\n",
       "      <td>0.0</td>\n",
       "      <td>2012-08-21</td>\n",
       "      <td>Valve, Hidden Path Entertainment</td>\n",
       "      <td>Valve</td>\n",
       "      <td>7</td>\n",
       "      <td>130096</td>\n",
       "      <td>...</td>\n",
       "      <td>4480874</td>\n",
       "      <td>83</td>\n",
       "      <td>[fps, shooter, multiplayer, competitive, actio...</td>\n",
       "      <td>NaN</td>\n",
       "      <td>Counter-Strike: Global Offensive (CS: GO) expa...</td>\n",
       "      <td>['win', 'mac', 'linux']</td>\n",
       "      <td>NaN</td>\n",
       "      <td>NaN</td>\n",
       "      <td>[240, 359550, 393380, 10, 581320, 291480, 2029...</td>\n",
       "      <td>6.992372</td>\n",
       "    </tr>\n",
       "  </tbody>\n",
       "</table>\n",
       "<p>1 rows × 21 columns</p>\n",
       "</div>"
      ],
      "text/plain": [
       "    id                             title   genre  original_price  \\\n",
       "0  730  Counter-Strike: Global Offensive  Action             0.0   \n",
       "\n",
       "   discounted_price release_date                         developer publisher  \\\n",
       "0               0.0   2012-08-21  Valve, Hidden Path Entertainment     Valve   \n",
       "\n",
       "   overall_rating  overall_vote_count  ...  recent_vote_count  \\\n",
       "0               7              130096  ...            4480874   \n",
       "\n",
       "   metacritic_score                                               tags awards  \\\n",
       "0                83  [fps, shooter, multiplayer, competitive, actio...    NaN   \n",
       "\n",
       "                                         description                platforms  \\\n",
       "0  Counter-Strike: Global Offensive (CS: GO) expa...  ['win', 'mac', 'linux']   \n",
       "\n",
       "  minimum_requirements recommended_requirements  \\\n",
       "0                  NaN                      NaN   \n",
       "\n",
       "                                       similar_games overall_score  \n",
       "0  [240, 359550, 393380, 10, 581320, 291480, 2029...      6.992372  \n",
       "\n",
       "[1 rows x 21 columns]"
      ]
     },
     "execution_count": 92,
     "metadata": {},
     "output_type": "execute_result"
    }
   ],
   "source": [
    "game_df"
   ]
  },
  {
   "cell_type": "code",
   "execution_count": null,
   "metadata": {},
   "outputs": [],
   "source": []
  }
 ],
 "metadata": {
  "kernelspec": {
   "display_name": "Python 3",
   "language": "python",
   "name": "python3"
  },
  "language_info": {
   "codemirror_mode": {
    "name": "ipython",
    "version": 3
   },
   "file_extension": ".py",
   "mimetype": "text/x-python",
   "name": "python",
   "nbconvert_exporter": "python",
   "pygments_lexer": "ipython3",
   "version": "3.8.1"
  }
 },
 "nbformat": 4,
 "nbformat_minor": 4
}
