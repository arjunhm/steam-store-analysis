{
 "cells": [
  {
   "cell_type": "code",
   "execution_count": 1,
   "metadata": {},
   "outputs": [
    {
     "data": {
      "application/javascript": [
       "if (!(\"Notification\" in window)) {\n",
       "    alert(\"This browser does not support desktop notifications, so the %%notify magic will not work.\");\n",
       "} else if (Notification.permission !== 'granted' && Notification.permission !== 'denied') {\n",
       "    Notification.requestPermission(function (permission) {\n",
       "        if(!('permission' in Notification)) {\n",
       "            Notification.permission = permission;\n",
       "        }\n",
       "    })\n",
       "}\n"
      ],
      "text/plain": [
       "<IPython.core.display.Javascript object>"
      ]
     },
     "metadata": {},
     "output_type": "display_data"
    }
   ],
   "source": [
    "from bs4 import BeautifulSoup\n",
    "import requests\n",
    "import time\n",
    "%load_ext jupyternotify"
   ]
  },
  {
   "cell_type": "code",
   "execution_count": 2,
   "metadata": {},
   "outputs": [],
   "source": [
    "url = 'https://store.steampowered.com/app/1057090/Ori_and_the_Will_of_the_Wisps/'\n",
    "response = requests.get(url)\n",
    "site_content = response.text"
   ]
  },
  {
   "cell_type": "code",
   "execution_count": 3,
   "metadata": {},
   "outputs": [],
   "source": [
    "soup = BeautifulSoup(site_content, 'html.parser')"
   ]
  },
  {
   "cell_type": "code",
   "execution_count": 4,
   "metadata": {},
   "outputs": [
    {
     "data": {
      "text/plain": [
       "'Ori and the Will of the Wisps on Steam'"
      ]
     },
     "execution_count": 4,
     "metadata": {},
     "output_type": "execute_result"
    }
   ],
   "source": [
    "soup.title.text"
   ]
  },
  {
   "cell_type": "markdown",
   "metadata": {},
   "source": [
    "# Functions"
   ]
  },
  {
   "cell_type": "code",
   "execution_count": 5,
   "metadata": {},
   "outputs": [],
   "source": [
    "def clock(func):\n",
    "    \"\"\"Decorator function to calculate time taken to run a function\n",
    "\n",
    "    Args:\n",
    "        func: A function\n",
    "\n",
    "    Returns:\n",
    "        Time taken by the function passed as argument\n",
    "    \"\"\"\n",
    "\n",
    "    def clocked(*args):\n",
    "        start = time.perf_counter()\n",
    "        result = func(*args)\n",
    "        elapsed = time.perf_counter() - start\n",
    "\n",
    "        if func.__name__ == 'get_fruit_stats':\n",
    "            print('[%0.8fs] %s - %s' % (elapsed, func.__name__, args))\n",
    "        else:\n",
    "            print('[%0.8fs] %s' % (elapsed, func.__name__))\n",
    "        return result\n",
    "\n",
    "    return clocked"
   ]
  },
  {
   "cell_type": "code",
   "execution_count": 6,
   "metadata": {},
   "outputs": [],
   "source": [
    "def get_details(soup):\n",
    "\n",
    "    game_details = soup.find_all('div', {'class': 'details_block'})[0]\n",
    "\n",
    "    title = soup.find('div', {'class': 'apphub_AppName'}).text.strip()\n",
    "    genre = soup.find('b', text='Genre:').find_next().text.strip()\n",
    "    try:\n",
    "        release_date = soup.find('div', {'class': 'release_date'}).find('div', {'class': 'date'}).text.strip()\n",
    "    except:\n",
    "        release_date = None\n",
    "\n",
    "    dev = soup.find('div', {'id': 'developers_list'}).text.strip()\n",
    "    publisher = soup.find('div', {'class': 'subtitle column'}, text='Publisher:').find_next().text.strip()\n",
    "    \n",
    "    return title, genre, release_date, dev, publisher"
   ]
  },
  {
   "cell_type": "code",
   "execution_count": 7,
   "metadata": {},
   "outputs": [],
   "source": [
    "def get_price(soup):\n",
    "    \n",
    "    s = soup.find('div', {'class': 'game_purchase_action'})\n",
    "    \n",
    "    try:\n",
    "        original_price = s.find('div', {'class': 'discount_original_price'}).text.strip()\n",
    "        discounted_price = s.find('div', {'class': 'discount_final_price'}).text.strip()\n",
    "    except:\n",
    "        original_price = s.find('div', {'class': 'game_purchase_price price'}).text.strip()\n",
    "\n",
    "        if 'Free' in original_price:\n",
    "            original_price = 'Free'\n",
    "\n",
    "        discounted_price = original_price       \n",
    "\n",
    "    return original_price, discounted_price\n"
   ]
  },
  {
   "cell_type": "code",
   "execution_count": 8,
   "metadata": {},
   "outputs": [],
   "source": [
    "def get_metacritic_score(soup):\n",
    "    try:\n",
    "        return int(soup.find('div', {'id': 'game_area_metascore'}).find('div', {'class': 'score'}).text.strip())\n",
    "    except:\n",
    "        return 0"
   ]
  },
  {
   "cell_type": "code",
   "execution_count": 9,
   "metadata": {},
   "outputs": [],
   "source": [
    "def get_ratings(soup):\n",
    "    arr = []\n",
    "    \n",
    "    for review in soup.find_all('div', {'class': 'user_reviews_summary_row'}):\n",
    "        for i in review.find('div', {'class': 'summary column'}).find_all('span')[: 2]:\n",
    "            i = i.text.strip()\n",
    "            if i.startswith('('):\n",
    "                arr.append(int(i[1: -1].replace(',', '')))\n",
    "            else:\n",
    "                arr.append(i)\n",
    "    \n",
    "    if len(arr) == 2:\n",
    "        arr += arr\n",
    "\n",
    "    return arr"
   ]
  },
  {
   "cell_type": "code",
   "execution_count": 10,
   "metadata": {},
   "outputs": [],
   "source": [
    "def get_tags(soup):\n",
    "    return [x.text.strip() for x in soup.find('div', {'class': 'glance_tags popular_tags'}).find_all('a')]"
   ]
  },
  {
   "cell_type": "code",
   "execution_count": 11,
   "metadata": {},
   "outputs": [],
   "source": [
    "def get_awards(soup):\n",
    "    try: \n",
    "        return soup.find_all('div',\n",
    "                             {'class': 'block responsive_apppage_reviewblock'})[1].find('div',\n",
    "                             {'class': 'game_page_autocollapse'})\n",
    "    except:\n",
    "        return None"
   ]
  },
  {
   "cell_type": "code",
   "execution_count": 12,
   "metadata": {},
   "outputs": [],
   "source": [
    "def get_min_requirements(soup):\n",
    "    try:\n",
    "        min_requirements = soup.find('div', {'class': 'game_area_sys_req_leftCol'})\n",
    "        return [x.text for x in min_requirements.find('ul').find_all('li')]\n",
    "    except:\n",
    "        return None"
   ]
  },
  {
   "cell_type": "code",
   "execution_count": 13,
   "metadata": {},
   "outputs": [],
   "source": [
    "def get_recommended_requirements(soup):\n",
    "    try:\n",
    "        min_requirements = soup.find('div', {'class': 'game_area_sys_req_rightCol'})\n",
    "        return [x.text for x in min_requirements.find('ul').find_all('li')]\n",
    "    except:\n",
    "        return None"
   ]
  },
  {
   "cell_type": "code",
   "execution_count": 14,
   "metadata": {},
   "outputs": [],
   "source": [
    "def get_platforms(soup):\n",
    "    try:\n",
    "        return [x['class'][1] for x in soup.find('div', {'class': 'game_area_purchase_platform'}).find_all('span')]\n",
    "    except:\n",
    "        return None"
   ]
  },
  {
   "cell_type": "code",
   "execution_count": 15,
   "metadata": {},
   "outputs": [],
   "source": [
    "def get_game_description(soup):\n",
    "    return soup.find('div', {'class': 'game_area_description'}).find('h2').next_element.next_element.strip()"
   ]
  },
  {
   "cell_type": "code",
   "execution_count": 16,
   "metadata": {},
   "outputs": [],
   "source": [
    "def get_similar_games(soup):\n",
    "\n",
    "    similar_games_link = soup.find('div', {'id': 'recommended_block'}).find('a')['href']\n",
    "    site_content = requests.get(similar_games_link)\n",
    "\n",
    "    sg_soup = BeautifulSoup(site_content.text, 'html.parser')\n",
    "    list_of_games = sg_soup.find('div', {'id': 'released'}).find_all('div', {'class': 'similar_grid_item'})\n",
    "\n",
    "    return [int(game.find('div', {'class': 'similar_grid_capsule'})['data-ds-appid']) for game in list_of_games]\n"
   ]
  },
  {
   "cell_type": "code",
   "execution_count": 17,
   "metadata": {},
   "outputs": [],
   "source": [
    "def create_soup_object(game_id):\n",
    "    \n",
    "    url = f\"https://store.steampowered.com/app/{game_id}/\"\n",
    "    site_content = requests.get(url)\n",
    "    \n",
    "    return BeautifulSoup(site_content.text, 'html.parser')"
   ]
  },
  {
   "cell_type": "code",
   "execution_count": 18,
   "metadata": {},
   "outputs": [],
   "source": [
    "def collect_game_data(game_id):\n",
    "    global list_of_ids, error_games\n",
    "    \n",
    "    soup = create_soup_object(game_id)\n",
    "    \n",
    "    try:\n",
    "        title, genre, release_date, dev, publisher = get_details(soup)\n",
    "        print(f\"{title}\\t---\\t{game_id}\")\n",
    "        original_price, discounted_price = get_price(soup)\n",
    "        metacritic_score = get_metacritic_score(soup)\n",
    "\n",
    "        tags = get_tags(soup)\n",
    "        awards = get_awards(soup)\n",
    "\n",
    "        ratings = get_ratings(soup)\n",
    "        description = get_game_description(soup)\n",
    "\n",
    "        platforms = get_platforms(soup)\n",
    "        min_reqs = get_min_requirements(soup)\n",
    "        rec_reqs = get_recommended_requirements(soup)\n",
    "\n",
    "        similar_games = get_similar_games(soup)\n",
    "\n",
    "        for x in similar_games:\n",
    "            list_of_ids.append(x)\n",
    "\n",
    "        return {\n",
    "            'id': game_id,\n",
    "            'title': title,\n",
    "            'genre': genre,\n",
    "            'original_price': original_price,\n",
    "            'discounted_price': discounted_price,\n",
    "            'release_date': release_date,\n",
    "            'developer': dev,\n",
    "            'publisher': publisher,            \n",
    "            'overall_rating': ratings[0],\n",
    "            'overall_vote_count': ratings[1],\n",
    "            'recent_rating': ratings[2],\n",
    "            'recent_vote_count': ratings[3],\n",
    "            'metacritic_score': metacritic_score,\n",
    "            'tags': tags,\n",
    "            'awards': awards,\n",
    "            'description': description,\n",
    "            'platforms': platforms,\n",
    "            'minimum_requirements': min_reqs,\n",
    "            'recommended_requirements': rec_reqs,\n",
    "            'similar_games': similar_games\n",
    "        }\n",
    "    except:\n",
    "        error_games.append(game_id)\n",
    "        return None"
   ]
  },
  {
   "cell_type": "code",
   "execution_count": 19,
   "metadata": {},
   "outputs": [],
   "source": [
    "list_of_games = []\n",
    "list_of_ids = list()\n",
    "error_games = []\n",
    "set_of_ids = set()"
   ]
  },
  {
   "cell_type": "code",
   "execution_count": 20,
   "metadata": {},
   "outputs": [],
   "source": [
    "game_id = 239140"
   ]
  },
  {
   "cell_type": "code",
   "execution_count": 21,
   "metadata": {},
   "outputs": [
    {
     "data": {
      "text/plain": [
       "[239140]"
      ]
     },
     "execution_count": 21,
     "metadata": {},
     "output_type": "execute_result"
    }
   ],
   "source": [
    "list_of_ids.append(game_id)\n",
    "list_of_ids"
   ]
  },
  {
   "cell_type": "code",
   "execution_count": 22,
   "metadata": {},
   "outputs": [
    {
     "name": "stdout",
     "output_type": "stream",
     "text": [
      "1\n"
     ]
    },
    {
     "data": {
      "text/plain": [
       "1"
      ]
     },
     "execution_count": 22,
     "metadata": {},
     "output_type": "execute_result"
    }
   ],
   "source": [
    "print(len(list_of_ids))\n",
    "list_of_ids = list(set(list_of_ids) - set_of_ids)\n",
    "len(list_of_ids)"
   ]
  },
  {
   "cell_type": "code",
   "execution_count": 23,
   "metadata": {},
   "outputs": [
    {
     "name": "stdout",
     "output_type": "stream",
     "text": [
      "Dying Light\t---\t239140\n",
      "----- 0 -----\n",
      "GTFO\t---\t493520\n"
     ]
    },
    {
     "data": {
      "application/javascript": [
       "$(document).ready(\n",
       "    function() {\n",
       "        function appendUniqueDiv(){\n",
       "            // append a div with our uuid so we can check that it's already\n",
       "            // been sent and avoid duplicates on page reload\n",
       "            var notifiedDiv = document.createElement(\"div\")\n",
       "            notifiedDiv.id = \"24bca096-8363-4c71-81d0-a21480000a07\"\n",
       "            element.append(notifiedDiv)\n",
       "        }\n",
       "\n",
       "        // only send notifications if the pageload is complete; this will\n",
       "        // help stop extra notifications when a saved notebook is loaded,\n",
       "        // which during testing gives us state \"interactive\", not \"complete\"\n",
       "        if (document.readyState === 'complete') {\n",
       "            // check for the div that signifies that the notification\n",
       "            // was already sent\n",
       "            if (document.getElementById(\"24bca096-8363-4c71-81d0-a21480000a07\") === null) {\n",
       "                var notificationPayload = {\"requireInteraction\": false, \"icon\": \"/static/base/images/favicon.ico\", \"body\": \"Cell execution has finished!\"};\n",
       "                if (Notification.permission !== 'denied') {\n",
       "                    if (Notification.permission !== 'granted') { \n",
       "                        Notification.requestPermission(function (permission) {\n",
       "                            if(!('permission' in Notification)) {\n",
       "                                Notification.permission = permission\n",
       "                            }\n",
       "                        })\n",
       "                    }\n",
       "                    if (Notification.permission === 'granted') {\n",
       "                    var notification = new Notification(\"Jupyter Notebook\", notificationPayload)\n",
       "                    appendUniqueDiv()\n",
       "                    notification.onclick = function () {\n",
       "                        window.focus();\n",
       "                        this.close();\n",
       "                        };\n",
       "                    } \n",
       "                }     \n",
       "            }\n",
       "        }\n",
       "    }\n",
       ")\n"
      ],
      "text/plain": [
       "<IPython.core.display.Javascript object>"
      ]
     },
     "metadata": {},
     "output_type": "display_data"
    }
   ],
   "source": [
    "%%notify\n",
    "counter = 0\n",
    "counter_limit = 2\n",
    "interval = 50\n",
    "\n",
    "for game_id in list_of_ids:\n",
    "   \n",
    "    if game_id in set_of_ids or game_id in error_games:\n",
    "        continue\n",
    "\n",
    "    time.sleep(1)\n",
    "    game_data = collect_game_data(game_id)\n",
    "    set_of_ids.add(game_id)\n",
    "    list_of_games.append(game_data)\n",
    "    \n",
    "    if counter % interval == 0:\n",
    "        print(f\"----- {counter} -----\")\n",
    "    \n",
    "    \n",
    "    counter += 1\n",
    "    if counter == counter_limit:\n",
    "        break"
   ]
  },
  {
   "cell_type": "code",
   "execution_count": 24,
   "metadata": {},
   "outputs": [
    {
     "data": {
      "text/plain": [
       "493520"
      ]
     },
     "execution_count": 24,
     "metadata": {},
     "output_type": "execute_result"
    }
   ],
   "source": [
    "game_id"
   ]
  },
  {
   "cell_type": "code",
   "execution_count": 27,
   "metadata": {},
   "outputs": [],
   "source": [
    "try:\n",
    "    list_of_ids.remove(40960)\n",
    "except:\n",
    "    pass\n",
    "\n",
    "try:\n",
    "    list_of_ids.remove(49540)\n",
    "except:\n",
    "    pass\n",
    "\n",
    "try:\n",
    "    list_of_ids.remove(game_id)\n",
    "except:\n",
    "    pass"
   ]
  },
  {
   "cell_type": "code",
   "execution_count": 25,
   "metadata": {},
   "outputs": [
    {
     "data": {
      "text/plain": [
       "2"
      ]
     },
     "execution_count": 25,
     "metadata": {},
     "output_type": "execute_result"
    }
   ],
   "source": [
    "len(list_of_games)"
   ]
  },
  {
   "cell_type": "code",
   "execution_count": 26,
   "metadata": {},
   "outputs": [
    {
     "data": {
      "text/plain": [
       "[{'id': 239140,\n",
       "  'title': 'Dying Light',\n",
       "  'genre': 'Action',\n",
       "  'original_price': '₹ 1,000',\n",
       "  'discounted_price': '₹ 1,000',\n",
       "  'release_date': '26 Jan, 2015',\n",
       "  'developer': 'Techland',\n",
       "  'publisher': 'Techland Publishing',\n",
       "  'overall_rating': 'Overwhelmingly Positive',\n",
       "  'overall_vote_count': 5114,\n",
       "  'recent_rating': 'Very Positive',\n",
       "  'recent_vote_count': 131692,\n",
       "  'metacritic_score': 87,\n",
       "  'tags': ['Horror',\n",
       "   'Survival Horror',\n",
       "   'Zombies',\n",
       "   'Online Co-Op',\n",
       "   'PvP',\n",
       "   'Parkour',\n",
       "   'First-Person',\n",
       "   'Open World Survival Craft',\n",
       "   'PvE',\n",
       "   'Open World',\n",
       "   'Action',\n",
       "   'FPS',\n",
       "   'Gore',\n",
       "   'Stealth',\n",
       "   'Survival',\n",
       "   'Story Rich',\n",
       "   'Post-apocalyptic',\n",
       "   'Hack and Slash',\n",
       "   'Action RPG',\n",
       "   'RPG'],\n",
       "  'awards': <div class=\"game_page_autocollapse\" style=\"max-height: 400px;\">\n",
       "  <img src=\"https://steamcdn-a.akamaihd.net/steam/apps/239140/extras/dl_laur_en.png?t=1594413193\"><br/><img src=\"https://steamcdn-a.akamaihd.net/steam/apps/239140/extras/winners_new.png?t=1594413193\"> </img></img></div>,\n",
       "  'description': '',\n",
       "  'platforms': ['win', 'mac', 'linux'],\n",
       "  'minimum_requirements': ['OS: Windows® 7 64-bit / Windows® 8 64-bit / Windows® 8.1 64-bit ',\n",
       "   'Processor: Intel® Core™ i5-2500 @3.3 GHz / AMD FX-8320 @3.5 GHz ',\n",
       "   'Memory: 4 GB RAM DDR3 ',\n",
       "   'Hard Drive: 40 GB free space ',\n",
       "   'Graphics: NVIDIA® GeForce® GTX 560 / AMD Radeon™ HD 6870 (1GB VRAM) ',\n",
       "   'DirectX®: Version 11 ',\n",
       "   'Sound: DirectX® compatible ',\n",
       "   'Additional Notes: Laptop versions of graphics cards may work but are NOT officially supported.Windows-compatible keyboard, mouse, optional controller (Xbox 360 Controller for Windows recommended)'],\n",
       "  'recommended_requirements': ['OS: Windows® 7 64-bit / Windows® 8 64-bit / Windows® 8.1 64-bit ',\n",
       "   'Processor: Intel® Core™ i5-4670K @3.4 GHz / AMD FX-8350 @4.0 GHz  ',\n",
       "   'Memory: 8 GB RAM DDR3 ',\n",
       "   'Hard Drive: 40 GB free space ',\n",
       "   'Graphics: NVIDIA® GeForce® GTX 780 / AMD Radeon™ R9 290 (2GB VRAM) ',\n",
       "   'DirectX®: Version 11 ',\n",
       "   'Sound: DirectX® compatible ',\n",
       "   'Additional Notes: Laptop versions of graphics cards may work but are NOT officially supported.Windows-compatible keyboard, mouse, optional controller (Xbox 360 Controller for Windows recommended)'],\n",
       "  'similar_games': [493520,\n",
       "   594650,\n",
       "   251570,\n",
       "   412020,\n",
       "   221100,\n",
       "   550,\n",
       "   232090,\n",
       "   342180,\n",
       "   418370,\n",
       "   252490,\n",
       "   242760,\n",
       "   381210,\n",
       "   552500,\n",
       "   383150,\n",
       "   895400,\n",
       "   601430,\n",
       "   513710,\n",
       "   629760]},\n",
       " {'id': 493520,\n",
       "  'title': 'GTFO',\n",
       "  'genre': 'Action',\n",
       "  'original_price': '₹ 759',\n",
       "  'discounted_price': '₹ 759',\n",
       "  'release_date': '9 Dec, 2019',\n",
       "  'developer': '10 Chambers Collective',\n",
       "  'publisher': '10 Chambers Collective',\n",
       "  'overall_rating': 'Very Positive',\n",
       "  'overall_vote_count': 637,\n",
       "  'recent_rating': 'Very Positive',\n",
       "  'recent_vote_count': 12213,\n",
       "  'metacritic_score': 0,\n",
       "  'tags': ['Early Access',\n",
       "   'Horror',\n",
       "   'Action',\n",
       "   'Online Co-Op',\n",
       "   'Co-op',\n",
       "   'Multiplayer',\n",
       "   'FPS',\n",
       "   'Survival Horror',\n",
       "   'Gore',\n",
       "   'First-Person',\n",
       "   'Shooter',\n",
       "   'Team-Based',\n",
       "   'Difficult',\n",
       "   'Violent',\n",
       "   'Atmospheric',\n",
       "   'Tactical',\n",
       "   'Survival',\n",
       "   'PvE',\n",
       "   'Zombies',\n",
       "   'Stealth'],\n",
       "  'awards': None,\n",
       "  'description': '',\n",
       "  'platforms': ['win'],\n",
       "  'minimum_requirements': ['Requires a 64-bit processor and operating system',\n",
       "   'OS: Windows 7 64-Bit or later',\n",
       "   'Processor: Intel Core i5 2500K or AMD equivalent',\n",
       "   'Memory: 8 GB RAM',\n",
       "   'Graphics: NVIDIA GeForce GTX 660 2 GB or AMD equivalent',\n",
       "   'DirectX: Version 11',\n",
       "   'Network: Broadband Internet connection',\n",
       "   'Storage: 15 GB available space'],\n",
       "  'recommended_requirements': ['Requires a 64-bit processor and operating system',\n",
       "   'OS: Windows 10 64-Bit',\n",
       "   'Processor: Intel Core i7 4790K or AMD equivalent',\n",
       "   'Memory: 16 GB RAM',\n",
       "   'Graphics: NVIDIA GeForce GTX 970 or AMD equivalent',\n",
       "   'DirectX: Version 11',\n",
       "   'Network: Broadband Internet connection',\n",
       "   'Storage: 15 GB available space'],\n",
       "  'similar_games': [594650,\n",
       "   232090,\n",
       "   550,\n",
       "   381210,\n",
       "   578080,\n",
       "   500,\n",
       "   218620,\n",
       "   239140,\n",
       "   342180,\n",
       "   251570,\n",
       "   730,\n",
       "   202970,\n",
       "   359550,\n",
       "   581320,\n",
       "   1250,\n",
       "   221100,\n",
       "   552500,\n",
       "   418370]}]"
      ]
     },
     "execution_count": 26,
     "metadata": {},
     "output_type": "execute_result"
    }
   ],
   "source": [
    "list_of_games"
   ]
  },
  {
   "cell_type": "code",
   "execution_count": null,
   "metadata": {},
   "outputs": [],
   "source": []
  },
  {
   "cell_type": "code",
   "execution_count": 116,
   "metadata": {},
   "outputs": [],
   "source": [
    "import pandas as pd"
   ]
  },
  {
   "cell_type": "code",
   "execution_count": 117,
   "metadata": {},
   "outputs": [],
   "source": [
    "for _ in range(list_of_games.count(None)):\n",
    "    list_of_games.remove(None)"
   ]
  },
  {
   "cell_type": "code",
   "execution_count": 118,
   "metadata": {},
   "outputs": [],
   "source": [
    "df = pd.DataFrame(list_of_games)"
   ]
  },
  {
   "cell_type": "code",
   "execution_count": 119,
   "metadata": {},
   "outputs": [],
   "source": [
    "df.to_csv('temp.csv', header=True, index=True)"
   ]
  },
  {
   "cell_type": "code",
   "execution_count": 33,
   "metadata": {},
   "outputs": [
    {
     "name": "stdout",
     "output_type": "stream",
     "text": [
      "40\n",
      "12510\n",
      "12502\n",
      "12521\n",
      "12532\n",
      "41\n",
      "45\n",
      "95\n",
      "33\n",
      "61\n",
      "47\n",
      "35\n",
      "63\n",
      "34\n",
      "34\n"
     ]
    }
   ],
   "source": [
    "s = '(マブラヴ)-_!=/#?\"\"'\n",
    "for i in s:\n",
    "    print(ord(i))"
   ]
  },
  {
   "cell_type": "code",
   "execution_count": null,
   "metadata": {},
   "outputs": [],
   "source": []
  }
 ],
 "metadata": {
  "kernelspec": {
   "display_name": "Python 3",
   "language": "python",
   "name": "python3"
  },
  "language_info": {
   "codemirror_mode": {
    "name": "ipython",
    "version": 3
   },
   "file_extension": ".py",
   "mimetype": "text/x-python",
   "name": "python",
   "nbconvert_exporter": "python",
   "pygments_lexer": "ipython3",
   "version": "3.8.1"
  }
 },
 "nbformat": 4,
 "nbformat_minor": 4
}
